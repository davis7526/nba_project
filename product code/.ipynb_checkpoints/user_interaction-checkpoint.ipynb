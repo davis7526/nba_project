{
 "cells": [
  {
   "cell_type": "code",
   "execution_count": 56,
   "id": "7d961e44-1fe1-45b5-ab3f-ec8c44963467",
   "metadata": {},
   "outputs": [],
   "source": [
    "import pandas as pd\n",
    "import importnb\n",
    "import import_ipynb\n",
    "from tkinter import *\n",
    "\n",
    "from database_interaction import Nba_DB"
   ]
  },
  {
   "cell_type": "code",
   "execution_count": 99,
   "id": "da7a0653-cd0d-4d4f-a906-a3c1c47d8b84",
   "metadata": {},
   "outputs": [],
   "source": [
    "#Class that handles the front end interaction with user's inputs\n",
    "class UserExperience:\n",
    "    db_conn = None\n",
    "    #Constructor\n",
    "    def __init__(self):\n",
    "        self.db_conn = Nba_DB()\n",
    "        \n",
    "    #Start the program    \n",
    "    def startup(self):\n",
    "        #Create a list of available seasons to select from\n",
    "        print('Welcome to the interactive NBA Player clustering program. Please select which NBA season you would like to look at from the following list.')\n",
    "        \n",
    "        season = self.get_season()\n",
    "        columns = self.get_columns()\n",
    "        \n",
    "    def get_season(self):\n",
    "        seasons = self.db_conn.execute_query(\"SELECT DISTINCT season FROM players ORDER BY season\")\n",
    "        print(list(seasons['season']))\n",
    "        season_input = input(\"Season Selected: \")\n",
    "        \n",
    "        #Check that the user input is a valid season\n",
    "        if season_input not in seasons['season'].unique():\n",
    "            print('Not an actual season, try again')\n",
    "            return self.get_season()\n",
    "        else:\n",
    "            return season_input\n",
    "    \n",
    "    #Return the columns that the user would like to include as features    \n",
    "    def get_columns(self):\n",
    "        available_columns = self.db_conn.execute_query(\"SELECT * FROM INFORMATION_SCHEMA.COLUMNS WHERE TABLE_NAME = 'players'\")\n",
    "        print(list(available_columns['column_name']))\n",
    "        \n",
    "        columns = input('Select columns that you want to use in clustering algorithm. (Please use the following format: x, y, z)')\n",
    "        \n",
    "        #Add validator to check if column names are valid\n",
    "        \n",
    "        return columns\n",
    "        \n",
    "        \n",
    "        \n",
    "        #Close out connection\n",
    "        self.db_conn.close_connection()\n",
    " \n",
    "        \n",
    "        #self.drop_down_menu(seasons)\n",
    "    \n",
    "#     #Create a drop down menu of passed in options\n",
    "#     def drop_down_menu(self, options):\n",
    "#         #Create an instance of tkinter frame\n",
    "#         win= Tk()\n",
    "\n",
    "#         #Define the size of window or frame\n",
    "#         win.geometry(\"715x250\")\n",
    "\n",
    "#         #Set the Menu initially\n",
    "#         menu= StringVar()\n",
    "#         menu.set(\"Select Any Season\")\n",
    "\n",
    "#         #Create a dropdown Menu\n",
    "#         drop= OptionMenu(win, menu, *options)\n",
    "#         drop.pack()\n",
    "#         #print(menu.get())\n",
    "#         win.mainloop()\n",
    "        \n",
    "    "
   ]
  },
  {
   "cell_type": "code",
   "execution_count": 100,
   "id": "dd250727-9c7a-40bf-8eda-dd746d53dd46",
   "metadata": {},
   "outputs": [
    {
     "name": "stdout",
     "output_type": "stream",
     "text": [
      "successfully connected\n",
      "Welcome to the interactive NBA Player clustering program. Please select which NBA season you would like to look at from the following list.\n",
      "['1996-97', '1997-98', '1998-99', '1999-00', '2000-01', '2001-02', '2002-03', '2003-04', '2004-05', '2005-06', '2006-07', '2007-08', '2008-09', '2009-10', '2010-11', '2011-12', '2012-13', '2013-14', '2014-15', '2015-16', '2016-17', '2017-18', '2018-19', '2019-20', '2020-21', '2021-22']\n"
     ]
    },
    {
     "name": "stdin",
     "output_type": "stream",
     "text": [
      "Season Selected:  2021-22\n"
     ]
    },
    {
     "name": "stdout",
     "output_type": "stream",
     "text": [
      "['fg3m', 'player_id', 'corner_3_fgm', 'corner_3_fga', 'corner_3_fg_pct', 'salary', 'team_id', 'age', 'gp', 'w', 'l', 'w_pct', 'min', 'e_off_rating', 'off_rating', 'sp_work_off_rating', 'e_def_rating', 'def_rating', 'sp_work_def_rating', 'e_net_rating', 'net_rating', 'sp_work_net_rating', 'ast_pct', 'ast_to', 'ast_ratio', 'oreb_pct', 'dreb_pct', 'reb_pct', 'tm_tov_pct', 'e_tov_pct', 'efg_pct', 'ts_pct', 'usg_pct', 'e_usg_pct', 'e_pace', 'pace', 'pace_per40', 'sp_work_pace', 'pie', 'poss', 'fgm', 'fga', 'fgm_pg', 'fga_pg', 'fg_pct', 'gp_rank', 'w_rank', 'l_rank', 'w_pct_rank', 'min_rank', 'e_off_rating_rank', 'off_rating_rank', 'sp_work_off_rating_rank', 'e_def_rating_rank', 'def_rating_rank', 'sp_work_def_rating_rank', 'e_net_rating_rank', 'net_rating_rank', 'sp_work_net_rating_rank', 'ast_pct_rank', 'ast_to_rank', 'ast_ratio_rank', 'oreb_pct_rank', 'dreb_pct_rank', 'reb_pct_rank', 'tm_tov_pct_rank', 'e_tov_pct_rank', 'efg_pct_rank', 'ts_pct_rank', 'usg_pct_rank', 'e_usg_pct_rank', 'e_pace_rank', 'pace_rank', 'sp_work_pace_rank', 'pie_rank', 'fgm_rank', 'fga_rank', 'fgm_pg_rank', 'fga_pg_rank', 'fg_pct_rank', 'fg2a_frequency', 'fg2m', 'fg2a', 'fg2_pct', 'fg3a_frequency', 'index', 'fg3a', 'fg3_pct', 'restricted_area_fgm', 'restricted_area_fga', 'restricted_area_fg_pct', 'in_the_paint_non_ra_fgm', 'in_the_paint_non_ra_fga', 'in_the_paint_non_ra_fg_pct', 'mid_range_fgm', 'mid_range_fga', 'mid_range_fg_pct', 'left_corner_3_fgm', 'left_corner_3_fga', 'left_corner_3_fg_pct', 'right_corner_3_fgm', 'right_corner_3_fga', 'right_corner_3_fg_pct', 'above_the_break_3_fgm', 'above_the_break_3_fga', 'above_the_break_3_fg_pct', 'backcourt_fgm', 'backcourt_fga', 'backcourt_fg_pct', 'player_name', 'season', 'team_abbreviation', 'position']\n"
     ]
    },
    {
     "name": "stdin",
     "output_type": "stream",
     "text": [
      "Select columns that you want to use in clustering algorithm. (Please use the following format: x, y, z) 212er\n"
     ]
    }
   ],
   "source": [
    "user_ex = UserExperience()\n",
    "user_ex.startup()"
   ]
  },
  {
   "cell_type": "code",
   "execution_count": null,
   "id": "36741e69-53b0-40b2-8abc-092e132aa2b3",
   "metadata": {},
   "outputs": [],
   "source": []
  }
 ],
 "metadata": {
  "kernelspec": {
   "display_name": "Python 3 (ipykernel)",
   "language": "python",
   "name": "python3"
  },
  "language_info": {
   "codemirror_mode": {
    "name": "ipython",
    "version": 3
   },
   "file_extension": ".py",
   "mimetype": "text/x-python",
   "name": "python",
   "nbconvert_exporter": "python",
   "pygments_lexer": "ipython3",
   "version": "3.7.13"
  }
 },
 "nbformat": 4,
 "nbformat_minor": 5
}
