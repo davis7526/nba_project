{
 "cells": [
  {
   "cell_type": "code",
   "execution_count": 1,
   "id": "5e67e275-11ff-4dfa-91e9-e572a4b7abc5",
   "metadata": {},
   "outputs": [],
   "source": [
    "import psycopg2\n",
    "import pandas as pd\n",
    "from nba_api.stats.endpoints import commonplayerinfo\n",
    "import time\n",
    "import pandas.io.sql as psql\n",
    "from sqlalchemy import create_engine\n",
    "#THOUGHTS\n",
    "    #Create player information database separate\n",
    "    #Then another database with seasonal data"
   ]
  },
  {
   "cell_type": "code",
   "execution_count": 33,
   "id": "fcb834be-1d99-441e-b0c3-f6db5f4fc0fc",
   "metadata": {},
   "outputs": [],
   "source": [
    "class nba_db():\n",
    "    \n",
    "    def __init__(self):\n",
    "        self.conn = None\n",
    "    \n",
    "    #Connect to local PostgresSQL database\n",
    "    def connect_to_db(self):\n",
    "        try:\n",
    "            self.conn = psycopg2.connect(database=\"postgres\",\n",
    "                                    host=\"localhost\",\n",
    "                                    user=\"postgres\",\n",
    "                                    password=\"Alpha7526!\",\n",
    "                                    port=\"5432\")\n",
    "            print('successfully connected')\n",
    "        except:\n",
    "            print('connection unsuccessful')\n",
    "            \n",
    "    #Close local PostgresSQL connection\n",
    "    def close_connection(self):\n",
    "        try:\n",
    "            self.conn.close()\n",
    "            print('connection closed')\n",
    "        except:\n",
    "            print('Error: check if connection was already closed')\n",
    "            \n",
    "    #Excecute query passed in as string        \n",
    "    def execute_query(self, query):\n",
    "        try:\n",
    "            return psql.read_sql(query, self.conn)\n",
    "        except:\n",
    "            print('Query failed, please try again')\n",
    "        \n",
    "        \n",
    "        \n",
    "    "
   ]
  },
  {
   "cell_type": "code",
   "execution_count": 34,
   "id": "9f1ef1bf-1d02-48a6-a87d-3ba3996bf4ee",
   "metadata": {},
   "outputs": [],
   "source": [
    "test = nba_db()"
   ]
  },
  {
   "cell_type": "code",
   "execution_count": 35,
   "id": "59fd6b55-b03f-470b-a682-dacfcd2b2525",
   "metadata": {},
   "outputs": [],
   "source": [
    "test.conn"
   ]
  },
  {
   "cell_type": "code",
   "execution_count": 36,
   "id": "d8292dd0-df28-4d0d-8cd5-7bc3caa30e4e",
   "metadata": {},
   "outputs": [
    {
     "name": "stdout",
     "output_type": "stream",
     "text": [
      "successfully connected\n"
     ]
    }
   ],
   "source": [
    "test.connect_to_db()"
   ]
  },
  {
   "cell_type": "code",
   "execution_count": 37,
   "id": "44b82574-c48c-470e-906a-083e735bdb08",
   "metadata": {},
   "outputs": [
    {
     "name": "stdout",
     "output_type": "stream",
     "text": [
      "Query failed, please try again\n"
     ]
    }
   ],
   "source": [
    "test.execute_query(\"SELECT * FROM players WHERE team_id = 1610612748 AND season = '2021-22'\")"
   ]
  },
  {
   "cell_type": "code",
   "execution_count": 39,
   "id": "5623386f-8029-4e3d-9883-f6eb1f44fb2b",
   "metadata": {},
   "outputs": [
    {
     "name": "stdout",
     "output_type": "stream",
     "text": [
      "connection closed\n"
     ]
    }
   ],
   "source": [
    "test.close_connection()"
   ]
  },
  {
   "cell_type": "code",
   "execution_count": 26,
   "id": "262cb05c-25e7-4973-9347-5957f9f90b67",
   "metadata": {},
   "outputs": [],
   "source": [
    "#Queries for specific uses:\n",
    "#Get All information on a Player\n",
    "#\"SELECT * FROM players WHERE player_name = 'lebron james'\"\n",
    "\n",
    "#Get All players from a team in a specific season\n",
    "#\"SELECT * FROM players WHERE team_id = 1610612748 AND season = '2019-20' \"\n"
   ]
  }
 ],
 "metadata": {
  "kernelspec": {
   "display_name": "Python 3 (ipykernel)",
   "language": "python",
   "name": "python3"
  },
  "language_info": {
   "codemirror_mode": {
    "name": "ipython",
    "version": 3
   },
   "file_extension": ".py",
   "mimetype": "text/x-python",
   "name": "python",
   "nbconvert_exporter": "python",
   "pygments_lexer": "ipython3",
   "version": "3.7.13"
  }
 },
 "nbformat": 4,
 "nbformat_minor": 5
}
